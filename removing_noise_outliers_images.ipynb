{
 "cells": [
  {
   "cell_type": "code",
   "execution_count": 1,
   "metadata": {},
   "outputs": [],
   "source": [
    "import os\n",
    "import pandas as pd\n",
    "import numpy as np\n"
   ]
  },
  {
   "cell_type": "markdown",
   "metadata": {},
   "source": [
    "<h1>Removing the noise from the dataset</h1>\n",
    "\n",
    "<h2>####################<h2>"
   ]
  },
  {
   "cell_type": "code",
   "execution_count": 13,
   "metadata": {},
   "outputs": [],
   "source": [
    "sequence_dir=os.path.join(os.curdir,\"data\",\"images\")\n",
    "for i in range(3,24):\n",
    "    os.makedirs(f\"Sequence-{i}\")"
   ]
  },
  {
   "cell_type": "code",
   "execution_count": 12,
   "metadata": {},
   "outputs": [],
   "source": [
    "sequences=np.arange(1,2)\n",
    "image_name=1\n",
    "cur_dir=os.curdir\n",
    "for sequence in sequences:\n",
    "    image_path=cur_dir+\"/data/images/Sequence-{}\".format(sequence)\n",
    "    images=os.listdir(image_path)\n",
    "    for old_name in images:\n",
    "        new_name=f\"{image_name}.jpg\"\n",
    "        os.rename(image_path+\"/\"+old_name,image_path+\"/\"+new_name)\n",
    "        image_name+=1\n",
    "    "
   ]
  },
  {
   "cell_type": "code",
   "execution_count": 2,
   "metadata": {},
   "outputs": [],
   "source": [
    "cur_dir=os.curdir\n",
    "image_dir=os.path.join(cur_dir,\"data\",\"images\")\n",
    "label_dir=os.path.join(cur_dir,\"data\",\"labels\")"
   ]
  },
  {
   "cell_type": "code",
   "execution_count": 3,
   "metadata": {},
   "outputs": [
    {
     "name": "stdout",
     "output_type": "stream",
     "text": [
      "1488------>1488       1\n",
      "816------>816       2\n",
      "952------>952       3\n",
      "900------>900       4\n",
      "548------>548       5\n",
      "1000------>1000       6\n",
      "577------>577       7\n",
      "450------>450       8\n",
      "396------>396       9\n",
      "394------>394       10\n",
      "1161------>1161       11\n",
      "725------>725       12\n",
      "706------>706       13\n",
      "897------>897       14\n",
      "913------>913       15\n",
      "342------>342       16\n",
      "197------>197       17\n",
      "1046------>1046       18\n",
      "1250------>1250       19\n",
      "197------>197       20\n",
      "839------>839       21\n",
      "\n",
      " Total---> 15794\n"
     ]
    }
   ],
   "source": [
    "tot=0\n",
    "\n",
    "for i in range(1,len(os.listdir(image_dir))+1):\n",
    "    num_images=len(os.listdir(os.path.join(image_dir,f\"Sequence-{i}\")))\n",
    "    num_labels=len(pd.read_csv(os.path.join(label_dir,f\"Seq{i}-IR.txt\"),header=None,delimiter=\"\\t\")[0].unique())\n",
    "    print(f\"{num_images}------>{num_labels}       {i}\")\n",
    "    tot+=num_images\n",
    "        \n",
    "print(\"\\n Total--->\",tot)"
   ]
  },
  {
   "cell_type": "code",
   "execution_count": 91,
   "metadata": {},
   "outputs": [],
   "source": [
    "df=pd.read_csv(os.path.join(label_dir,\"Seq18-IR.txt\"),delimiter=\"\\t\",header=None)\n",
    "images_18=os.listdir(cur_dir+\"/data/images/Sequence-18\")\n",
    "images_18_int=list(map(lambda x: int(x.split(\".\")[0]),images_18))\n",
    "labels=df[0].sort_values(ascending=True).unique()\n",
    "\n",
    "\n",
    "not_here=[]\n",
    "\n",
    "for i in labels:\n",
    "    if i not in images_18_int:\n",
    "        not_here.append(i)"
   ]
  },
  {
   "cell_type": "code",
   "execution_count": 92,
   "metadata": {},
   "outputs": [
    {
     "data": {
      "text/plain": [
       "1046"
      ]
     },
     "execution_count": 92,
     "metadata": {},
     "output_type": "execute_result"
    }
   ],
   "source": [
    "len(images_18_int)"
   ]
  },
  {
   "cell_type": "code",
   "execution_count": 93,
   "metadata": {},
   "outputs": [
    {
     "data": {
      "text/plain": [
       "1046"
      ]
     },
     "execution_count": 93,
     "metadata": {},
     "output_type": "execute_result"
    }
   ],
   "source": [
    "len(labels)"
   ]
  },
  {
   "cell_type": "code",
   "execution_count": 94,
   "metadata": {},
   "outputs": [
    {
     "data": {
      "text/plain": [
       "[]"
      ]
     },
     "execution_count": 94,
     "metadata": {},
     "output_type": "execute_result"
    }
   ],
   "source": [
    "not_here"
   ]
  },
  {
   "cell_type": "markdown",
   "metadata": {},
   "source": [
    "<h2>################################</h2>"
   ]
  }
 ],
 "metadata": {
  "interpreter": {
   "hash": "2aa004c0c9fad55c06fd0d614e3c9f4f7dee50ca3352dfb17d34d78d8020babd"
  },
  "kernelspec": {
   "display_name": "Python 3.8.12 ('base')",
   "language": "python",
   "name": "python3"
  },
  "language_info": {
   "codemirror_mode": {
    "name": "ipython",
    "version": 3
   },
   "file_extension": ".py",
   "mimetype": "text/x-python",
   "name": "python",
   "nbconvert_exporter": "python",
   "pygments_lexer": "ipython3",
   "version": "3.8.12"
  },
  "orig_nbformat": 4
 },
 "nbformat": 4,
 "nbformat_minor": 2
}
